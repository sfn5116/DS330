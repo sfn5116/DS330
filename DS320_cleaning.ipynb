{
  "nbformat": 4,
  "nbformat_minor": 0,
  "metadata": {
    "kernelspec": {
      "display_name": "Python 3",
      "language": "python",
      "name": "python3"
    },
    "language_info": {
      "codemirror_mode": {
        "name": "ipython",
        "version": 3
      },
      "file_extension": ".py",
      "mimetype": "text/x-python",
      "name": "python",
      "nbconvert_exporter": "python",
      "pygments_lexer": "ipython3",
      "version": "3.8.3"
    },
    "colab": {
      "name": "DS320_cleaning",
      "provenance": [],
      "collapsed_sections": [],
      "include_colab_link": true
    }
  },
  "cells": [
    {
      "cell_type": "markdown",
      "metadata": {
        "id": "view-in-github",
        "colab_type": "text"
      },
      "source": [
        "<a href=\"https://colab.research.google.com/github/sfn5116/DS330/blob/master/DS320_cleaning.ipynb\" target=\"_parent\"><img src=\"https://colab.research.google.com/assets/colab-badge.svg\" alt=\"Open In Colab\"/></a>"
      ]
    },
    {
      "cell_type": "markdown",
      "metadata": {
        "id": "M6m3v3HskeD8",
        "colab_type": "text"
      },
      "source": [
        "# Movie Data Integration (Part I: Extraction and Cleaning)\n",
        "\n",
        "This is the first part of a two part exercise to integrate and compare two different movie datasets. One is a CSV file from Kaggle and the other is semi-structured text data from the Internet Movie Database (IMDB).\n",
        "\n",
        "In this first part, we will extract information from all the datasets and load the data into a data structure called a Dataframe (part of the Pandas data science library in Python). We will then get rid of duplicates and begin to clean the data to make the data integration proceed more smoothly.\n"
      ]
    },
    {
      "cell_type": "markdown",
      "metadata": {
        "id": "TUD4dypsWTrS",
        "colab_type": "text"
      },
      "source": [
        "Look at  this first code block. It fetches files from the internet locations (the Kaggle dataset comes from Github and the IMDB data set (two files) come from an ftp site. It places the data files in a newly created directory called 'data' in your filespace. Before running this code block, **PLACE YOUR NAME AS A COMMENT AT THE TOP**.  Then, go ahead and run this code block. "
      ]
    },
    {
      "cell_type": "code",
      "metadata": {
        "id": "BEugKIOnWlhA",
        "colab_type": "code",
        "colab": {}
      },
      "source": [
        "#Srikar Nimmalapudi\n",
        "\n",
        "# Importing urlib\n",
        "import urllib.request\n",
        "import os\n",
        "\n",
        "# Creating the data folder\n",
        "if not os.path.exists('./data'):\n",
        "\tos.makedirs('./data')\n",
        "\n",
        "# Obtaining the dataset using the url that hosts it\n",
        "kaggle_url = 'https://github.com/sundeepblue/movie_rating_prediction/raw/master/movie_metadata.csv'\n",
        "if not os.path.exists('./data/kaggle_dataset.csv'):     # avoid downloading if the file exists\n",
        "\tresponse = urllib.request.urlretrieve(kaggle_url, './data/kaggle_dataset.csv')\n",
        "import gzip\n",
        "\n",
        "# Obtaining IMDB's text files\n",
        "imdb_url_prefix = 'ftp://ftp.funet.fi/pub/mirrors/ftp.imdb.com/pub/frozendata/'\n",
        "imdb_files_list = ['genres.list.gz', 'ratings.list.gz']\n",
        "for name in imdb_files_list:\n",
        "\tif not os.path.exists('./data/' + name):\n",
        "\t\tresponse = urllib.request.urlretrieve(imdb_url_prefix + name, './data/' + name)\n",
        "\t\turllib.request.urlcleanup()   # urllib fails to download two files from a ftp source. This fixes the bug!\n",
        "\t\twith gzip.open('./data/' + name, 'rb') as comp_file, open('./data/' + name[:-3], 'wb') as reg_file:\n",
        "\t\t\tfile_content = comp_file.read()\n",
        "\t\t\treg_file.write(file_content)"
      ],
      "execution_count": 1,
      "outputs": []
    },
    {
      "cell_type": "code",
      "metadata": {
        "id": "XNdMh8NsWlhO",
        "colab_type": "code",
        "colab": {}
      },
      "source": [
        "imdb_url = 'https://anaconda.org/BigGorilla/datasets/1/download/imdb_dataset.csv'\n",
        "if not os.path.exists('./data/imdb_dataset.csv'):     # avoid downloading if the file exists\n",
        "\tresponse = urllib.request.urlretrieve(kaggle_url, './data/imdb_dataset.csv')"
      ],
      "execution_count": 2,
      "outputs": []
    },
    {
      "cell_type": "markdown",
      "metadata": {
        "id": "R47-Zv8aUQZG",
        "colab_type": "text"
      },
      "source": [
        "**Data Extraction**\n",
        "\n",
        "The IMDB Plain Text Data file is a collection of semi-structured text files that need to be processed to extract the data. We will be looking at the files \"ratings.list\" and \"genres.list\". A quick look at the first lines of each file will show that the files have a different format and we must extract the data separately. We will use regular expressions (RE) to extract the data from the file. In particular, we will use the group method in Python RE to extract the different data elements (e.g. title, year, etc.) into groups that will become columns in a Pandas dataframe\n"
      ]
    },
    {
      "cell_type": "code",
      "metadata": {
        "id": "rKFAqoCjWlhY",
        "colab_type": "code",
        "colab": {
          "base_uri": "https://localhost:8080/",
          "height": 204
        },
        "outputId": "3f99abb6-406c-4b69-e762-7de3fcfe7c20"
      },
      "source": [
        "with open(\"./data/ratings.list\", encoding='ISO-8859-1') as myfile:\n",
        "\thead = [next(myfile) for x in range(38)]\n",
        "print (''.join(head[28:38]))   # skipping the first 28 lines as they are descriptive headers"
      ],
      "execution_count": 3,
      "outputs": [
        {
          "output_type": "stream",
          "text": [
            "      0000000125  1888533   9.2  The Shawshank Redemption (1994)\n",
            "      0000000125  1289428   9.2  The Godfather (1972)\n",
            "      0000000124  889607   9.0  The Godfather: Part II (1974)\n",
            "      0000000124  1864164   9.0  The Dark Knight (2008)\n",
            "      0000000133  518449   8.9  12 Angry Men (1957)\n",
            "      0000000133  971107   8.9  Schindler's List (1993)\n",
            "      0000000123  1477112   8.9  Pulp Fiction (1994)\n",
            "      0000000124  1349449   8.9  The Lord of the Rings: The Return of the King (2003)\n",
            "      0000000123  559468   8.8  Il buono, il brutto, il cattivo (1966)\n",
            "      0000000133  1513600   8.8  Fight Club (1999)\n",
            "\n"
          ],
          "name": "stdout"
        }
      ]
    },
    {
      "cell_type": "code",
      "metadata": {
        "id": "-c0f5bZvWlhh",
        "colab_type": "code",
        "colab": {
          "base_uri": "https://localhost:8080/",
          "height": 204
        },
        "outputId": "8663c28b-7d31-45ae-8a0b-acb7a88728c5"
      },
      "source": [
        "with open(\"./data/genres.list\") as myfile:\n",
        "\thead = [next(myfile) for x in range(392)]\n",
        "print (''.join(head[382:392]))   # skipping the first 382 lines as they are descriptive header"
      ],
      "execution_count": 4,
      "outputs": [
        {
          "output_type": "stream",
          "text": [
            "==================\n",
            "\n",
            "\"!Next?\" (1994)\t\t\t\t\t\tDocumentary\n",
            "\"#1 Single\" (2006)\t\t\t\t\tReality-TV\n",
            "\"#15SecondScare\" (2015)\t\t\t\t\tHorror\n",
            "\"#15SecondScare\" (2015)\t\t\t\t\tShort\n",
            "\"#15SecondScare\" (2015)\t\t\t\t\tThriller\n",
            "\"#15SecondScare\" (2015) {Who Wants to Play with the Rabbit? (#1.2)}\tDrama\n",
            "\"#15SecondScare\" (2015) {Who Wants to Play with the Rabbit? (#1.2)}\tHorror\n",
            "\"#15SecondScare\" (2015) {Who Wants to Play with the Rabbit? (#1.2)}\tShort\n",
            "\n"
          ],
          "name": "stdout"
        }
      ]
    },
    {
      "cell_type": "markdown",
      "metadata": {
        "id": "Dbfx1VqUZB3h",
        "colab_type": "text"
      },
      "source": [
        "**Extracting information from genres.list** The  goal  of  this  step  is  to  extract  the movie titles and their production year, and genre from “genres.list”, and store the extracted data into a dataframe.  Dataframe (from the python package pandas) is one of the key tools that is commonly used for data profiling and cleaning.  To extract the desired information from thetext, we rely on regular expressions which are implemented in the python package “re”."
      ]
    },
    {
      "cell_type": "code",
      "metadata": {
        "id": "Myojw2RQWlho",
        "colab_type": "code",
        "colab": {
          "base_uri": "https://localhost:8080/",
          "height": 255
        },
        "outputId": "c8fc4c6e-75ab-41df-b73d-0a97a2426264"
      },
      "source": [
        "import re\n",
        "import pandas as pd\n",
        "\n",
        "with open(\"./data/genres.list\",encoding='ISO-8859-1') as genres_file:\n",
        "\traw_content = genres_file.readlines()\n",
        "\tgenres_list = []\n",
        "\tcontent = raw_content[382:]\n",
        "\tfor line in content:\n",
        "\t\tm = re.match(r'\"?(.*[^\"])\"? \\(((?:\\d|\\?){4})(?:/\\w*)?\\).*\\s((?:\\w|-)+)', line.strip())\n",
        "\t\tif m is None: continue\n",
        "\t\tgenres_list.append([m.group(1), m.group(2), m.group(3)])\n",
        "\tgenres_data = pd.DataFrame(genres_list, columns=['movie', 'year', 'genre'])\n",
        "\tprint (genres_data)   "
      ],
      "execution_count": 5,
      "outputs": [
        {
          "output_type": "stream",
          "text": [
            "                  movie  year        genre\n",
            "0                !Next?  1994  Documentary\n",
            "1             #1 Single  2006   Reality-TV\n",
            "2        #15SecondScare  2015       Horror\n",
            "3        #15SecondScare  2015        Short\n",
            "4        #15SecondScare  2015     Thriller\n",
            "...                 ...   ...          ...\n",
            "2658936        überRICH  2017       Comedy\n",
            "2658937        überRICH  2017        Short\n",
            "2658938              üç  2012    Adventure\n",
            "2658939              üç  2012       Comedy\n",
            "2658940              üç  2012        Short\n",
            "\n",
            "[2658941 rows x 3 columns]\n"
          ],
          "name": "stdout"
        }
      ]
    },
    {
      "cell_type": "markdown",
      "metadata": {
        "id": "w5tDBvSnZt25",
        "colab_type": "text"
      },
      "source": [
        "Now do the same thing, extracting Movie, year, and rating into a Pandas Dataframe (IN THAT ORDER) from ratings.list. You can use the regular expression in this next code block by copying it:  "
      ]
    },
    {
      "cell_type": "code",
      "metadata": {
        "id": "-yUT74aic4GG",
        "colab_type": "code",
        "colab": {}
      },
      "source": [
        "#Only grab the regular expression from the line below\n",
        "#m = re.match(r'(?:\\d|\\.|\\*){10}\\s+\\d+\\s+(1?\\d\\.\\d)\\s\"?(.*[^\"])\"? \\(((?:\\d|\\?){4})(?:/\\w*)?\\)', line.strip())\n",
        "#\n",
        "#Look at the code blocks above where we explore ratings.list and genres.list. We skip header lines in each one. We skip the first\n",
        "#382 lines in genres.list and then when we go and create the Dataframe above, we do the same with the content= line. For ratings.list\n",
        "#skip only the first 28 lines which have headers. \n",
        " "
      ],
      "execution_count": null,
      "outputs": []
    },
    {
      "cell_type": "markdown",
      "metadata": {
        "id": "OdmDvokBc5iM",
        "colab_type": "text"
      },
      "source": [
        "You can probably mimic the code block above for genres, except on ratings.list. You will need different variables for ratings by changing variable names with \"genres\" to \"ratings\". This will put the data into RE groups. Note that the ?: operator in a group denotes an ignored group and that the group numbering will always proceed in the order retrieved from the file beginning with 1. Create your code block in the cell below: \n"
      ]
    },
    {
      "cell_type": "code",
      "metadata": {
        "id": "hDTy_oqfWlhw",
        "colab_type": "code",
        "colab": {
          "base_uri": "https://localhost:8080/",
          "height": 255
        },
        "outputId": "fb722f33-9d82-44c4-c852-dbb060bdd4ba"
      },
      "source": [
        "with open(\"./data/ratings.list\",encoding='ISO-8859-1') as ratings_file:\n",
        "\traw_content = ratings_file.readlines()\n",
        "\tratings_list = []\n",
        "\tcontent = raw_content[28:]\n",
        "\tfor line in content:\n",
        "\t\tm = re.match(r'(?:\\d|\\.|\\*){10}\\s+\\d+\\s+(1?\\d\\.\\d)\\s\"?(.*[^\"])\"? \\(((?:\\d|\\?){4})(?:/\\w*)?\\)', line.strip())\n",
        "\t\tif m is None: continue\n",
        "\t\tratings_list.append([m.group(1), m.group(2), m.group(3)])\n",
        "\tratings_data = pd.DataFrame(ratings_list, columns=['rating', 'movie', 'year'])\n",
        "\tprint (ratings_data)  "
      ],
      "execution_count": 13,
      "outputs": [
        {
          "output_type": "stream",
          "text": [
            "       rating                      movie  year\n",
            "0         9.2   The Shawshank Redemption  1994\n",
            "1         9.2              The Godfather  1972\n",
            "2         9.0     The Godfather: Part II  1974\n",
            "3         9.0            The Dark Knight  2008\n",
            "4         8.9               12 Angry Men  1957\n",
            "...       ...                        ...   ...\n",
            "789410    8.8                     à deux  2017\n",
            "789411    7.0                     ärtico  2014\n",
            "789412    5.4        éX-Driver the Movie  2002\n",
            "789413    6.2                         él  2001\n",
            "789414    6.8                          ö  2012\n",
            "\n",
            "[789415 rows x 3 columns]\n"
          ],
          "name": "stdout"
        }
      ]
    },
    {
      "cell_type": "markdown",
      "metadata": {
        "id": "w4_zaKRhkrgo",
        "colab_type": "text"
      },
      "source": [
        "Since the Kaggle data already exists in a structured csv file, loading it into a Pandas Dataframe is straightforward:\n"
      ]
    },
    {
      "cell_type": "code",
      "metadata": {
        "id": "8MhuROlIWlh3",
        "colab_type": "code",
        "colab": {}
      },
      "source": [
        "import pandas as pd\n",
        "\n",
        "# Loading the Kaggle dataset from the .csv file (kaggle_dataset.csv)\n",
        "kaggle_data = pd.read_csv('./data/kaggle_dataset.csv')"
      ],
      "execution_count": 8,
      "outputs": []
    },
    {
      "cell_type": "markdown",
      "metadata": {
        "id": "-Nehcj9qk1NB",
        "colab_type": "text"
      },
      "source": [
        "Let's find out how many movies are in the Kaggle data set:"
      ]
    },
    {
      "cell_type": "code",
      "metadata": {
        "id": "4enUHeJ_Wlh7",
        "colab_type": "code",
        "colab": {
          "base_uri": "https://localhost:8080/",
          "height": 34
        },
        "outputId": "65044163-ddea-4f86-d33f-03e73d878d84"
      },
      "source": [
        "print ('Number of movies in kaggle_data: {}'.format(kaggle_data.shape[0]))\n"
      ],
      "execution_count": 9,
      "outputs": [
        {
          "output_type": "stream",
          "text": [
            "Number of movies in kaggle_data: 5043\n"
          ],
          "name": "stdout"
        }
      ]
    },
    {
      "cell_type": "markdown",
      "metadata": {
        "id": "tD59oRqsk_dt",
        "colab_type": "text"
      },
      "source": [
        "Let's do the same for genres_data and ratings_data. Complete the code block below to print the number of movies in ratings_data and genres_data:\n"
      ]
    },
    {
      "cell_type": "code",
      "metadata": {
        "id": "g2Sx4TzYlCzn",
        "colab_type": "code",
        "colab": {
          "base_uri": "https://localhost:8080/",
          "height": 51
        },
        "outputId": "554f06ec-b89a-4b18-8b1c-2c0861d5be97"
      },
      "source": [
        "print ('Number of movies in genres_data: {}'.format(genres_data.shape[0]))\n",
        "print ('Number of movies in ratings_data: {}'.format(ratings_data.shape[0]))"
      ],
      "execution_count": 10,
      "outputs": [
        {
          "output_type": "stream",
          "text": [
            "Number of movies in genres_data: 2658941\n",
            "Number of movies in ratings_data: 789415\n"
          ],
          "name": "stdout"
        }
      ]
    },
    {
      "cell_type": "markdown",
      "metadata": {
        "id": "AW4Af3UMlSmA",
        "colab_type": "text"
      },
      "source": [
        "There is a handy method in Pandas to identify duplicates in a Dataframe (It is called 'duplicated'):"
      ]
    },
    {
      "cell_type": "code",
      "metadata": {
        "id": "GkJVtG4QWliA",
        "colab_type": "code",
        "colab": {
          "base_uri": "https://localhost:8080/",
          "height": 34
        },
        "outputId": "0457f3c8-1357-4a1d-9ea2-cd157931d06a"
      },
      "source": [
        "print ('Number of duplicates in kaggle_data: {}'.format(\n",
        "\tsum(kaggle_data.duplicated(subset=['movie_title', 'title_year'], keep=False))))\n"
      ],
      "execution_count": 11,
      "outputs": [
        {
          "output_type": "stream",
          "text": [
            "Number of duplicates in kaggle_data: 241\n"
          ],
          "name": "stdout"
        }
      ]
    },
    {
      "cell_type": "markdown",
      "metadata": {
        "id": "Z-tX15_7R0uX",
        "colab_type": "text"
      },
      "source": [
        "Now follow the same programming construction shown above to identify and print the number of duplicates in the genres_data and ratings_data dataframes. Note that you will have to use the correct column names for movie and year. "
      ]
    },
    {
      "cell_type": "code",
      "metadata": {
        "id": "YoVj2MdWRoXO",
        "colab_type": "code",
        "colab": {
          "base_uri": "https://localhost:8080/",
          "height": 51
        },
        "outputId": "96312f7e-d325-4574-ec47-93c5cdf10f84"
      },
      "source": [
        "print ('Number of duplicates in genres_data: {}'.format(\n",
        "\tsum(genres_data.duplicated(subset=['movie', 'year'], keep=False))))\n",
        "\n",
        "print ('Number of duplicates in ratings_data: {}'.format(\n",
        "\tsum(ratings_data.duplicated(subset=['movie', 'year'], keep=False))))"
      ],
      "execution_count": 14,
      "outputs": [
        {
          "output_type": "stream",
          "text": [
            "Number of duplicates in genres_data: 2031322\n",
            "Number of duplicates in ratings_data: 342815\n"
          ],
          "name": "stdout"
        }
      ]
    },
    {
      "cell_type": "markdown",
      "metadata": {
        "id": "9cjfA_hldqdo",
        "colab_type": "text"
      },
      "source": [
        "Dealing with duplicates: There are many strategies for dealing with duplicates. In this case, we are going to assume we can keep the first occurrence and just drop/delete the remaining duplicates, using the drop_duplicates method in the Dataframe class. "
      ]
    },
    {
      "cell_type": "code",
      "metadata": {
        "id": "O8Q9yQcCWliG",
        "colab_type": "code",
        "colab": {}
      },
      "source": [
        "kaggle_data = kaggle_data.drop_duplicates(subset=['movie_title', 'title_year'], keep='first').copy()\n"
      ],
      "execution_count": 16,
      "outputs": []
    },
    {
      "cell_type": "markdown",
      "metadata": {
        "id": "lXn2172BeFJG",
        "colab_type": "text"
      },
      "source": [
        "Do the same for genres_data and ratings_data"
      ]
    },
    {
      "cell_type": "code",
      "metadata": {
        "id": "vKoZrStNeKcd",
        "colab_type": "code",
        "colab": {}
      },
      "source": [
        "genres_data = genres_data.drop_duplicates(subset=['movie', 'year'], keep='first').copy()\n",
        "ratings_data = ratings_data.drop_duplicates(subset=['movie', 'year'], keep='first').copy()\n"
      ],
      "execution_count": 17,
      "outputs": []
    },
    {
      "cell_type": "markdown",
      "metadata": {
        "id": "snw9sYFReeaI",
        "colab_type": "text"
      },
      "source": [
        "Some data integration tasks can be brute force.  In our efforts to integrate the IMDB data with the Kaggle data set, we will be trying to match movie title and year. Ideally we want to make sure the title strings look as similar as possible. There are some simple cleaning steps we can take to try to simplify our integration tasks. These include:\n",
        "\n",
        "\n",
        "\n",
        "*   Making titles all lower case\n",
        "*   Getting rid of any commas in all the titles\n",
        "*   Eliminating quotes\n",
        "*   Replacing '&' with 'and'\n",
        "*   Getting rid of question marks\n",
        "\n",
        "We have started you out. Please finish coding to replace the other characters as described above with additional title.replace lines (you can replace things with '' to get rid of them)\n",
        "\n",
        "\n",
        "\n",
        "\n",
        "\n",
        "\n",
        "\n",
        "\n"
      ]
    },
    {
      "cell_type": "code",
      "metadata": {
        "id": "SWPNpE16WliL",
        "colab_type": "code",
        "colab": {}
      },
      "source": [
        "def preprocess_title(title):\n",
        "\ttitle = title.lower()\n",
        "\ttitle = title.replace(',', ' ')\n",
        "\ttitle = title.replace('\\\"', '')\n",
        "\ttitle = title.replace('&', 'and')\n",
        "\ttitle = title.replace('?', '')\n",
        "\n",
        "\treturn title.strip()\n",
        "\n",
        "kaggle_data['norm_movie_title'] = kaggle_data['movie_title'].map(preprocess_title)\n",
        "genres_data['norm_movie'] = genres_data['movie'].map(preprocess_title)\n",
        "ratings_data['norm_movie'] = ratings_data['movie'].map(preprocess_title)"
      ],
      "execution_count": 18,
      "outputs": []
    },
    {
      "cell_type": "code",
      "metadata": {
        "id": "UNAnGZ5GWliS",
        "colab_type": "code",
        "colab": {
          "base_uri": "https://localhost:8080/",
          "height": 247
        },
        "outputId": "a77ec4d6-2a05-4810-a41a-3f895f361cef"
      },
      "source": [
        "kaggle_data.sample(3, random_state=3)"
      ],
      "execution_count": 20,
      "outputs": [
        {
          "output_type": "execute_result",
          "data": {
            "text/html": [
              "<div>\n",
              "<style scoped>\n",
              "    .dataframe tbody tr th:only-of-type {\n",
              "        vertical-align: middle;\n",
              "    }\n",
              "\n",
              "    .dataframe tbody tr th {\n",
              "        vertical-align: top;\n",
              "    }\n",
              "\n",
              "    .dataframe thead th {\n",
              "        text-align: right;\n",
              "    }\n",
              "</style>\n",
              "<table border=\"1\" class=\"dataframe\">\n",
              "  <thead>\n",
              "    <tr style=\"text-align: right;\">\n",
              "      <th></th>\n",
              "      <th>color</th>\n",
              "      <th>director_name</th>\n",
              "      <th>num_critic_for_reviews</th>\n",
              "      <th>duration</th>\n",
              "      <th>director_facebook_likes</th>\n",
              "      <th>actor_3_facebook_likes</th>\n",
              "      <th>actor_2_name</th>\n",
              "      <th>actor_1_facebook_likes</th>\n",
              "      <th>gross</th>\n",
              "      <th>genres</th>\n",
              "      <th>actor_1_name</th>\n",
              "      <th>movie_title</th>\n",
              "      <th>num_voted_users</th>\n",
              "      <th>cast_total_facebook_likes</th>\n",
              "      <th>actor_3_name</th>\n",
              "      <th>facenumber_in_poster</th>\n",
              "      <th>plot_keywords</th>\n",
              "      <th>movie_imdb_link</th>\n",
              "      <th>num_user_for_reviews</th>\n",
              "      <th>language</th>\n",
              "      <th>country</th>\n",
              "      <th>content_rating</th>\n",
              "      <th>budget</th>\n",
              "      <th>title_year</th>\n",
              "      <th>actor_2_facebook_likes</th>\n",
              "      <th>imdb_score</th>\n",
              "      <th>aspect_ratio</th>\n",
              "      <th>movie_facebook_likes</th>\n",
              "      <th>norm_movie_title</th>\n",
              "      <th>norm_title_year</th>\n",
              "    </tr>\n",
              "  </thead>\n",
              "  <tbody>\n",
              "    <tr>\n",
              "      <th>1714</th>\n",
              "      <td>Color</td>\n",
              "      <td>Sergio Leone</td>\n",
              "      <td>111.0</td>\n",
              "      <td>251.0</td>\n",
              "      <td>0.0</td>\n",
              "      <td>642.0</td>\n",
              "      <td>Burt Young</td>\n",
              "      <td>22000.0</td>\n",
              "      <td>5300000.0</td>\n",
              "      <td>Crime|Drama</td>\n",
              "      <td>Robert De Niro</td>\n",
              "      <td>Once Upon a Time in America</td>\n",
              "      <td>221000</td>\n",
              "      <td>24719</td>\n",
              "      <td>Treat Williams</td>\n",
              "      <td>8.0</td>\n",
              "      <td>1920s|ambiguity|childhood friend|new york|spea...</td>\n",
              "      <td>http://www.imdb.com/title/tt0087843/?ref_=fn_t...</td>\n",
              "      <td>495.0</td>\n",
              "      <td>English</td>\n",
              "      <td>Italy</td>\n",
              "      <td>R</td>\n",
              "      <td>30000000.0</td>\n",
              "      <td>1984.0</td>\n",
              "      <td>683.0</td>\n",
              "      <td>8.4</td>\n",
              "      <td>1.85</td>\n",
              "      <td>12000</td>\n",
              "      <td>once upon a time in america</td>\n",
              "      <td>1984.0</td>\n",
              "    </tr>\n",
              "    <tr>\n",
              "      <th>805</th>\n",
              "      <td>Color</td>\n",
              "      <td>Iain Softley</td>\n",
              "      <td>161.0</td>\n",
              "      <td>106.0</td>\n",
              "      <td>34.0</td>\n",
              "      <td>466.0</td>\n",
              "      <td>Stephen Graham</td>\n",
              "      <td>3000.0</td>\n",
              "      <td>17281832.0</td>\n",
              "      <td>Adventure|Family|Fantasy</td>\n",
              "      <td>Brendan Fraser</td>\n",
              "      <td>Inkheart</td>\n",
              "      <td>60232</td>\n",
              "      <td>5329</td>\n",
              "      <td>Jamie Foreman</td>\n",
              "      <td>3.0</td>\n",
              "      <td>book|escape|girl|overalls|villain</td>\n",
              "      <td>http://www.imdb.com/title/tt0494238/?ref_=fn_t...</td>\n",
              "      <td>110.0</td>\n",
              "      <td>English</td>\n",
              "      <td>Germany</td>\n",
              "      <td>PG</td>\n",
              "      <td>60000000.0</td>\n",
              "      <td>2008.0</td>\n",
              "      <td>1000.0</td>\n",
              "      <td>6.1</td>\n",
              "      <td>2.35</td>\n",
              "      <td>0</td>\n",
              "      <td>inkheart</td>\n",
              "      <td>2008.0</td>\n",
              "    </tr>\n",
              "    <tr>\n",
              "      <th>684</th>\n",
              "      <td>Color</td>\n",
              "      <td>McG</td>\n",
              "      <td>96.0</td>\n",
              "      <td>131.0</td>\n",
              "      <td>368.0</td>\n",
              "      <td>383.0</td>\n",
              "      <td>Kimberly Williams-Paisley</td>\n",
              "      <td>11000.0</td>\n",
              "      <td>43532294.0</td>\n",
              "      <td>Drama|Sport</td>\n",
              "      <td>Matthew McConaughey</td>\n",
              "      <td>We Are Marshall</td>\n",
              "      <td>46951</td>\n",
              "      <td>12088</td>\n",
              "      <td>Brian Geraghty</td>\n",
              "      <td>0.0</td>\n",
              "      <td>coach|football|football team|marshall universi...</td>\n",
              "      <td>http://www.imdb.com/title/tt0758794/?ref_=fn_t...</td>\n",
              "      <td>175.0</td>\n",
              "      <td>English</td>\n",
              "      <td>USA</td>\n",
              "      <td>PG</td>\n",
              "      <td>65000000.0</td>\n",
              "      <td>2006.0</td>\n",
              "      <td>529.0</td>\n",
              "      <td>7.1</td>\n",
              "      <td>2.35</td>\n",
              "      <td>0</td>\n",
              "      <td>we are marshall</td>\n",
              "      <td>2006.0</td>\n",
              "    </tr>\n",
              "  </tbody>\n",
              "</table>\n",
              "</div>"
            ],
            "text/plain": [
              "      color director_name  ...             norm_movie_title  norm_title_year\n",
              "1714  Color  Sergio Leone  ...  once upon a time in america           1984.0\n",
              "805   Color  Iain Softley  ...                     inkheart           2008.0\n",
              "684   Color           McG  ...              we are marshall           2006.0\n",
              "\n",
              "[3 rows x 30 columns]"
            ]
          },
          "metadata": {
            "tags": []
          },
          "execution_count": 20
        }
      ]
    },
    {
      "cell_type": "markdown",
      "metadata": {
        "id": "TNWXpE_3gQ9_",
        "colab_type": "text"
      },
      "source": [
        "What is the data type of the title_year attribute above?  Let's create a little preprocess method that we can apply to the kaggle data title_year attribute to normalize it -- that is store the year as a string and replace null values with '?'. **Fill in the missing code in the method below to convert to a string before running.** "
      ]
    },
    {
      "cell_type": "markdown",
      "metadata": {
        "id": "buZh-HpesiTf",
        "colab_type": "text"
      },
      "source": [
        "title_year seems to be a float data type"
      ]
    },
    {
      "cell_type": "code",
      "metadata": {
        "id": "NWZIBjWIWliY",
        "colab_type": "code",
        "colab": {
          "base_uri": "https://localhost:8080/",
          "height": 360
        },
        "outputId": "d6066d07-f888-4a56-dc4b-d7455a30961f"
      },
      "source": [
        "def preprocess_year(year):\n",
        "\tif pd.isnull(year):\n",
        "\t\treturn '?'\n",
        "\telse:\n",
        "\t\treturn str(int(year))\n",
        "\n",
        "kaggle_data['norm_title_year'] = kaggle_data['title_year'].map(preprocess_year)\n",
        "kaggle_data.head()"
      ],
      "execution_count": 21,
      "outputs": [
        {
          "output_type": "execute_result",
          "data": {
            "text/html": [
              "<div>\n",
              "<style scoped>\n",
              "    .dataframe tbody tr th:only-of-type {\n",
              "        vertical-align: middle;\n",
              "    }\n",
              "\n",
              "    .dataframe tbody tr th {\n",
              "        vertical-align: top;\n",
              "    }\n",
              "\n",
              "    .dataframe thead th {\n",
              "        text-align: right;\n",
              "    }\n",
              "</style>\n",
              "<table border=\"1\" class=\"dataframe\">\n",
              "  <thead>\n",
              "    <tr style=\"text-align: right;\">\n",
              "      <th></th>\n",
              "      <th>color</th>\n",
              "      <th>director_name</th>\n",
              "      <th>num_critic_for_reviews</th>\n",
              "      <th>duration</th>\n",
              "      <th>director_facebook_likes</th>\n",
              "      <th>actor_3_facebook_likes</th>\n",
              "      <th>actor_2_name</th>\n",
              "      <th>actor_1_facebook_likes</th>\n",
              "      <th>gross</th>\n",
              "      <th>genres</th>\n",
              "      <th>actor_1_name</th>\n",
              "      <th>movie_title</th>\n",
              "      <th>num_voted_users</th>\n",
              "      <th>cast_total_facebook_likes</th>\n",
              "      <th>actor_3_name</th>\n",
              "      <th>facenumber_in_poster</th>\n",
              "      <th>plot_keywords</th>\n",
              "      <th>movie_imdb_link</th>\n",
              "      <th>num_user_for_reviews</th>\n",
              "      <th>language</th>\n",
              "      <th>country</th>\n",
              "      <th>content_rating</th>\n",
              "      <th>budget</th>\n",
              "      <th>title_year</th>\n",
              "      <th>actor_2_facebook_likes</th>\n",
              "      <th>imdb_score</th>\n",
              "      <th>aspect_ratio</th>\n",
              "      <th>movie_facebook_likes</th>\n",
              "      <th>norm_movie_title</th>\n",
              "      <th>norm_title_year</th>\n",
              "    </tr>\n",
              "  </thead>\n",
              "  <tbody>\n",
              "    <tr>\n",
              "      <th>0</th>\n",
              "      <td>Color</td>\n",
              "      <td>James Cameron</td>\n",
              "      <td>723.0</td>\n",
              "      <td>178.0</td>\n",
              "      <td>0.0</td>\n",
              "      <td>855.0</td>\n",
              "      <td>Joel David Moore</td>\n",
              "      <td>1000.0</td>\n",
              "      <td>760505847.0</td>\n",
              "      <td>Action|Adventure|Fantasy|Sci-Fi</td>\n",
              "      <td>CCH Pounder</td>\n",
              "      <td>Avatar</td>\n",
              "      <td>886204</td>\n",
              "      <td>4834</td>\n",
              "      <td>Wes Studi</td>\n",
              "      <td>0.0</td>\n",
              "      <td>avatar|future|marine|native|paraplegic</td>\n",
              "      <td>http://www.imdb.com/title/tt0499549/?ref_=fn_t...</td>\n",
              "      <td>3054.0</td>\n",
              "      <td>English</td>\n",
              "      <td>USA</td>\n",
              "      <td>PG-13</td>\n",
              "      <td>237000000.0</td>\n",
              "      <td>2009.0</td>\n",
              "      <td>936.0</td>\n",
              "      <td>7.9</td>\n",
              "      <td>1.78</td>\n",
              "      <td>33000</td>\n",
              "      <td>avatar</td>\n",
              "      <td>2009</td>\n",
              "    </tr>\n",
              "    <tr>\n",
              "      <th>1</th>\n",
              "      <td>Color</td>\n",
              "      <td>Gore Verbinski</td>\n",
              "      <td>302.0</td>\n",
              "      <td>169.0</td>\n",
              "      <td>563.0</td>\n",
              "      <td>1000.0</td>\n",
              "      <td>Orlando Bloom</td>\n",
              "      <td>40000.0</td>\n",
              "      <td>309404152.0</td>\n",
              "      <td>Action|Adventure|Fantasy</td>\n",
              "      <td>Johnny Depp</td>\n",
              "      <td>Pirates of the Caribbean: At World's End</td>\n",
              "      <td>471220</td>\n",
              "      <td>48350</td>\n",
              "      <td>Jack Davenport</td>\n",
              "      <td>0.0</td>\n",
              "      <td>goddess|marriage ceremony|marriage proposal|pi...</td>\n",
              "      <td>http://www.imdb.com/title/tt0449088/?ref_=fn_t...</td>\n",
              "      <td>1238.0</td>\n",
              "      <td>English</td>\n",
              "      <td>USA</td>\n",
              "      <td>PG-13</td>\n",
              "      <td>300000000.0</td>\n",
              "      <td>2007.0</td>\n",
              "      <td>5000.0</td>\n",
              "      <td>7.1</td>\n",
              "      <td>2.35</td>\n",
              "      <td>0</td>\n",
              "      <td>pirates of the caribbean: at world's end</td>\n",
              "      <td>2007</td>\n",
              "    </tr>\n",
              "    <tr>\n",
              "      <th>2</th>\n",
              "      <td>Color</td>\n",
              "      <td>Sam Mendes</td>\n",
              "      <td>602.0</td>\n",
              "      <td>148.0</td>\n",
              "      <td>0.0</td>\n",
              "      <td>161.0</td>\n",
              "      <td>Rory Kinnear</td>\n",
              "      <td>11000.0</td>\n",
              "      <td>200074175.0</td>\n",
              "      <td>Action|Adventure|Thriller</td>\n",
              "      <td>Christoph Waltz</td>\n",
              "      <td>Spectre</td>\n",
              "      <td>275868</td>\n",
              "      <td>11700</td>\n",
              "      <td>Stephanie Sigman</td>\n",
              "      <td>1.0</td>\n",
              "      <td>bomb|espionage|sequel|spy|terrorist</td>\n",
              "      <td>http://www.imdb.com/title/tt2379713/?ref_=fn_t...</td>\n",
              "      <td>994.0</td>\n",
              "      <td>English</td>\n",
              "      <td>UK</td>\n",
              "      <td>PG-13</td>\n",
              "      <td>245000000.0</td>\n",
              "      <td>2015.0</td>\n",
              "      <td>393.0</td>\n",
              "      <td>6.8</td>\n",
              "      <td>2.35</td>\n",
              "      <td>85000</td>\n",
              "      <td>spectre</td>\n",
              "      <td>2015</td>\n",
              "    </tr>\n",
              "    <tr>\n",
              "      <th>3</th>\n",
              "      <td>Color</td>\n",
              "      <td>Christopher Nolan</td>\n",
              "      <td>813.0</td>\n",
              "      <td>164.0</td>\n",
              "      <td>22000.0</td>\n",
              "      <td>23000.0</td>\n",
              "      <td>Christian Bale</td>\n",
              "      <td>27000.0</td>\n",
              "      <td>448130642.0</td>\n",
              "      <td>Action|Thriller</td>\n",
              "      <td>Tom Hardy</td>\n",
              "      <td>The Dark Knight Rises</td>\n",
              "      <td>1144337</td>\n",
              "      <td>106759</td>\n",
              "      <td>Joseph Gordon-Levitt</td>\n",
              "      <td>0.0</td>\n",
              "      <td>deception|imprisonment|lawlessness|police offi...</td>\n",
              "      <td>http://www.imdb.com/title/tt1345836/?ref_=fn_t...</td>\n",
              "      <td>2701.0</td>\n",
              "      <td>English</td>\n",
              "      <td>USA</td>\n",
              "      <td>PG-13</td>\n",
              "      <td>250000000.0</td>\n",
              "      <td>2012.0</td>\n",
              "      <td>23000.0</td>\n",
              "      <td>8.5</td>\n",
              "      <td>2.35</td>\n",
              "      <td>164000</td>\n",
              "      <td>the dark knight rises</td>\n",
              "      <td>2012</td>\n",
              "    </tr>\n",
              "    <tr>\n",
              "      <th>4</th>\n",
              "      <td>NaN</td>\n",
              "      <td>Doug Walker</td>\n",
              "      <td>NaN</td>\n",
              "      <td>NaN</td>\n",
              "      <td>131.0</td>\n",
              "      <td>NaN</td>\n",
              "      <td>Rob Walker</td>\n",
              "      <td>131.0</td>\n",
              "      <td>NaN</td>\n",
              "      <td>Documentary</td>\n",
              "      <td>Doug Walker</td>\n",
              "      <td>Star Wars: Episode VII - The Force Awakens    ...</td>\n",
              "      <td>8</td>\n",
              "      <td>143</td>\n",
              "      <td>NaN</td>\n",
              "      <td>0.0</td>\n",
              "      <td>NaN</td>\n",
              "      <td>http://www.imdb.com/title/tt5289954/?ref_=fn_t...</td>\n",
              "      <td>NaN</td>\n",
              "      <td>NaN</td>\n",
              "      <td>NaN</td>\n",
              "      <td>NaN</td>\n",
              "      <td>NaN</td>\n",
              "      <td>NaN</td>\n",
              "      <td>12.0</td>\n",
              "      <td>7.1</td>\n",
              "      <td>NaN</td>\n",
              "      <td>0</td>\n",
              "      <td>star wars: episode vii - the force awakens</td>\n",
              "      <td>?</td>\n",
              "    </tr>\n",
              "  </tbody>\n",
              "</table>\n",
              "</div>"
            ],
            "text/plain": [
              "   color  ... norm_title_year\n",
              "0  Color  ...            2009\n",
              "1  Color  ...            2007\n",
              "2  Color  ...            2015\n",
              "3  Color  ...            2012\n",
              "4    NaN  ...               ?\n",
              "\n",
              "[5 rows x 30 columns]"
            ]
          },
          "metadata": {
            "tags": []
          },
          "execution_count": 21
        }
      ]
    },
    {
      "cell_type": "markdown",
      "metadata": {
        "id": "z6Y__pm-h-ma",
        "colab_type": "text"
      },
      "source": [
        "Can you now come up with some code that will display the size of this Dataframe?  How many rows and columns?  In the next exercise we do, we will try to merge and match this Kaggle Data Set with the IMDB data. \n"
      ]
    },
    {
      "cell_type": "code",
      "metadata": {
        "id": "LyiFkd-dh79W",
        "colab_type": "code",
        "colab": {
          "base_uri": "https://localhost:8080/",
          "height": 646
        },
        "outputId": "474bf89f-a1ca-4660-b5ae-510946d387a8"
      },
      "source": [
        "kaggle_data.info()\n"
      ],
      "execution_count": 26,
      "outputs": [
        {
          "output_type": "stream",
          "text": [
            "<class 'pandas.core.frame.DataFrame'>\n",
            "Int64Index: 4919 entries, 0 to 5042\n",
            "Data columns (total 30 columns):\n",
            " #   Column                     Non-Null Count  Dtype  \n",
            "---  ------                     --------------  -----  \n",
            " 0   color                      4900 non-null   object \n",
            " 1   director_name              4817 non-null   object \n",
            " 2   num_critic_for_reviews     4870 non-null   float64\n",
            " 3   duration                   4904 non-null   float64\n",
            " 4   director_facebook_likes    4817 non-null   float64\n",
            " 5   actor_3_facebook_likes     4896 non-null   float64\n",
            " 6   actor_2_name               4906 non-null   object \n",
            " 7   actor_1_facebook_likes     4912 non-null   float64\n",
            " 8   gross                      4056 non-null   float64\n",
            " 9   genres                     4919 non-null   object \n",
            " 10  actor_1_name               4912 non-null   object \n",
            " 11  movie_title                4919 non-null   object \n",
            " 12  num_voted_users            4919 non-null   int64  \n",
            " 13  cast_total_facebook_likes  4919 non-null   int64  \n",
            " 14  actor_3_name               4896 non-null   object \n",
            " 15  facenumber_in_poster       4906 non-null   float64\n",
            " 16  plot_keywords              4767 non-null   object \n",
            " 17  movie_imdb_link            4919 non-null   object \n",
            " 18  num_user_for_reviews       4898 non-null   float64\n",
            " 19  language                   4907 non-null   object \n",
            " 20  country                    4914 non-null   object \n",
            " 21  content_rating             4618 non-null   object \n",
            " 22  budget                     4434 non-null   float64\n",
            " 23  title_year                 4813 non-null   float64\n",
            " 24  actor_2_facebook_likes     4906 non-null   float64\n",
            " 25  imdb_score                 4919 non-null   float64\n",
            " 26  aspect_ratio               4593 non-null   float64\n",
            " 27  movie_facebook_likes       4919 non-null   int64  \n",
            " 28  norm_movie_title           4919 non-null   object \n",
            " 29  norm_title_year            4919 non-null   object \n",
            "dtypes: float64(13), int64(3), object(14)\n",
            "memory usage: 1.2+ MB\n"
          ],
          "name": "stdout"
        }
      ]
    },
    {
      "cell_type": "markdown",
      "metadata": {
        "id": "M_VCmCo1avfL",
        "colab_type": "text"
      },
      "source": [
        "**Prepping the file (to turn into html or pdf) for submission:**\n",
        "\n",
        "After you have completed all the steps in the notebook above, you will need to run a package called nbconvert to convert your Python Notebook file (.ipynb) to a html file for submission on Canvas. If you have Jupyter Notebook on your personal computer, you will likely have nbconvert as well (and you may be able to convert to pdf). You can download the .ipynb file to your computer from Google colab and run the nbconvert command using 'jupyter nbconvert...' with the rest of the command as shown below. \n",
        "\n",
        "The following steps will allow you to convert the file directly here in Google Colab so you won't need any software on your computer.  Follow these steps to convert the file within Google Colab. The process is:\n",
        "\n",
        "\n",
        "1.   Donwload your .ipynb file to your local computer using the download .ipynb  menu option in the File menu in Colab\n",
        "2.   Now you need to upload the notebook to your temporary Google data filespace so that your notebook can operate on it. DO NOT UPPLOAD from the FILE menu in colab. Instead, click on the little icon that looks like a file folder on the left side of the colab window. This is your temporary file space. Upload the .ipynb file to that space using the upload icon (with the up arrow) in your files.  \n",
        "\n",
        "3. Now run the Code block below\n",
        "\n"
      ]
    },
    {
      "cell_type": "code",
      "metadata": {
        "id": "SFUVvEZncrm2",
        "colab_type": "code",
        "colab": {
          "base_uri": "https://localhost:8080/",
          "height": 51
        },
        "outputId": "30d85b5c-e3ab-438b-b403-0ed88f089c25"
      },
      "source": [
        "\n",
        "! jupyter nbconvert --to html /DS320_cleaning.ipynb"
      ],
      "execution_count": 28,
      "outputs": [
        {
          "output_type": "stream",
          "text": [
            "[NbConvertApp] Converting notebook /DS320_cleaning.ipynb to html\n",
            "[NbConvertApp] Writing 329588 bytes to /DS320_cleaning.html\n"
          ],
          "name": "stdout"
        }
      ]
    },
    {
      "cell_type": "markdown",
      "metadata": {
        "id": "61xOvsIqdzZL",
        "colab_type": "text"
      },
      "source": [
        "Refresh your tempoary filespace by clicking on the refresh folder icon. You should see the PDF file there now. Go ahead and download this file by selecting in it and clicking on the three dots on the right sidfe for a download option. \n",
        "\n",
        "There are other ways to do this too. You could mount your Google Drive and provide the correct path to the .ipynb file in the command above. "
      ]
    }
  ]
}